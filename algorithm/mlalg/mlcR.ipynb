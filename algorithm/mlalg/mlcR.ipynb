{
 "cells": [
  {
   "cell_type": "code",
   "execution_count": null,
   "metadata": {},
   "outputs": [],
   "source": [
    "import os\n",
    "import json\n",
    "import numpy as np\n",
    "from sklearn.model_selection import StratifiedKFold\n",
    "import time\n",
    "\n",
    "\n",
    "import numpy as np # 导入数值计算模块\n",
    "## from sklearn.cross_validation import train_test_split # 导入数据集切分模块\n",
    "from sklearn.metrics import accuracy_score # 导入准确度评估模块\n",
    "import pandas as pd # 加载 pandas 模块\n",
    "\n",
    " \n",
    "# 集成方法分类器\n",
    "from sklearn.ensemble import AdaBoostClassifier\n",
    "from sklearn.ensemble import BaggingClassifier\n",
    "from sklearn.ensemble import ExtraTreesClassifier\n",
    "from sklearn.ensemble import GradientBoostingClassifier\n",
    "from sklearn.ensemble import RandomForestClassifier\n",
    " \n",
    "# 高斯过程分类器\n",
    "from sklearn.gaussian_process import GaussianProcessClassifier\n",
    " \n",
    "# 广义线性分类器\n",
    "from sklearn.linear_model import PassiveAggressiveClassifier\n",
    "from sklearn.linear_model import RidgeClassifier\n",
    "from sklearn.linear_model import SGDClassifier\n",
    " \n",
    "# K近邻分类器\n",
    "from sklearn.neighbors import KNeighborsClassifier\n",
    " \n",
    "#朴素贝叶斯分类器\n",
    "from sklearn.naive_bayes import GaussianNB\n",
    " \n",
    "# 神经网络分类器\n",
    "from sklearn.neural_network import MLPClassifier\n",
    " \n",
    "# 决策树分类器\n",
    "from sklearn.tree import DecisionTreeClassifier\n",
    "from sklearn.tree import ExtraTreeClassifier\n",
    " \n",
    "# 支持向量机分类器\n",
    "from sklearn.svm import SVC\n",
    "from sklearn.svm import LinearSVC\n"
   ]
  },
  {
   "cell_type": "markdown",
   "metadata": {},
   "source": [
    "# 正则化"
   ]
  },
  {
   "cell_type": "code",
   "execution_count": null,
   "metadata": {},
   "outputs": [],
   "source": [
    "def normalize(ori):\n",
    "    data = ori.copy()\n",
    "    xmin, xmax = np.min(data[:, 0]), np.max(data[:, 0])\n",
    "    ymin, ymax = np.min(data[:, 1]), np.max(data[:, 1])\n",
    "    data[:, 0] = (data[:, 0] - xmin) / (xmax - xmin)\n",
    "    data[:, 1] = (data[:, 1] - ymin) / (ymax - ymin)\n",
    "    return data"
   ]
  },
  {
   "cell_type": "markdown",
   "metadata": {},
   "source": [
    "# 读入数据 f系列"
   ]
  },
  {
   "cell_type": "code",
   "execution_count": null,
   "metadata": {},
   "outputs": [],
   "source": [
    "path = 'data/f-1-1' #文件夹目录\n",
    "#files= os.listdir(path) #得到文件夹下的所有文件名称\n",
    "x = []\n",
    "y = []\n",
    "for i in range(6):\n",
    "    path = path[:-1]+str(i+1)\n",
    "    files = os.listdir(path)\n",
    "    for file in files:\n",
    "        f = open(path+\"/\"+file,encoding='utf-8')\n",
    "        data = json.load(f)\n",
    "        ndata = normalize(np.array(data['points']))\n",
    "        #data['points'] = ndata.tolist\n",
    "        y.append(i)\n",
    "        x.append(ndata.tolist())\n",
    "path = 'data/f-2-1' #文件夹目录\n",
    "for i in range(4):\n",
    "    path = path[:-1]+str(i+1)\n",
    "    files = os.listdir(path)\n",
    "    for file in files:\n",
    "        f = open(path+\"/\"+file,encoding='utf-8')\n",
    "        data = json.load(f)\n",
    "        ndata = normalize(np.array(data['points']))\n",
    "        y.append(i+6)\n",
    "        x.append(ndata.tolist())\n",
    "x = np.array(x)\n",
    "y = np.array(y)"
   ]
  },
  {
   "cell_type": "code",
   "execution_count": null,
   "metadata": {},
   "outputs": [],
   "source": [
    "path = 'data/s-1-1' #文件夹目录\n",
    "#files= os.listdir(path) #得到文件夹下的所有文件名称\n",
    "sx = []\n",
    "sy = []\n",
    "for i in range(6):\n",
    "    path = path[:-1]+str(i+1)\n",
    "    files = os.listdir(path)\n",
    "    for file in files:\n",
    "        f = open(path+\"/\"+file,encoding='utf-8')\n",
    "        data = json.load(f)\n",
    "        ndata = normalize(np.array(data['points']))\n",
    "        #data['points'] = ndata.tolist\n",
    "        sy.append(i)\n",
    "        sx.append(ndata.tolist())\n",
    "path = 'data/s-2-1' #文件夹目录\n",
    "for i in range(4):\n",
    "    path = path[:-1]+str(i+1)\n",
    "    files = os.listdir(path)\n",
    "    for file in files:\n",
    "        f = open(path+\"/\"+file,encoding='utf-8')\n",
    "        data = json.load(f)\n",
    "        ndata = normalize(np.array(data['points']))\n",
    "        sy.append(i+6)\n",
    "        sx.append(ndata.tolist())\n",
    "sx = np.array(sx)\n",
    "sy = np.array(sy)"
   ]
  },
  {
   "cell_type": "code",
   "execution_count": null,
   "metadata": {},
   "outputs": [],
   "source": [
    "#Reshape && copy\n",
    "tsx = sx.copy()\n",
    "n,w,h = tsx.shape\n",
    "tsx = tsx.reshape(n,w*h)\n",
    "tsy = sy.copy()\n",
    "# data:tsx label:tsy"
   ]
  },
  {
   "cell_type": "code",
   "execution_count": null,
   "metadata": {},
   "outputs": [],
   "source": [
    "# Reshape && Copy\n",
    "tx = x.copy()\n",
    "n,w,h = tx.shape\n",
    "tx = tx.reshape(n,w*h) \n",
    "ty = y.copy()\n",
    "# data:tx,  label:ty "
   ]
  },
  {
   "cell_type": "markdown",
   "metadata": {},
   "source": [
    "# scikit-learn 文档地址：https://scikit-learn.org/stable/"
   ]
  },
  {
   "cell_type": "markdown",
   "metadata": {},
   "source": [
    "## 测试1使用的方法：HistGradientBoostingClassifier() \n",
    "地址：https://scikit-learn.org/stable/modules/generated/sklearn.ensemble.HistGradientBoostingClassifier.html?highlight=histgradientboostingclassifier#sklearn.ensemble.HistGradientBoostingClassifier \n",
    "## 测试数据集f"
   ]
  },
  {
   "cell_type": "code",
   "execution_count": null,
   "metadata": {
    "tags": []
   },
   "outputs": [],
   "source": [
    "from sklearn.experimental import enable_hist_gradient_boosting  # noqa\n",
    "from sklearn.ensemble import HistGradientBoostingClassifier\n",
    "\n",
    "kf = StratifiedKFold(n_splits=10, shuffle=True, random_state=0)\n",
    "scores = []\n",
    "t_scores = []\n",
    "print(\"f 数据集\")\n",
    "for train_index, test_index in kf.split(tx, ty):\n",
    "    X_train, X_test = tx[train_index], tx[test_index]\n",
    "    y_train, y_test = ty[train_index], ty[test_index]\n",
    "    \n",
    "    # train\n",
    "    clf = HistGradientBoostingClassifier()\n",
    "    clf.fit(X_train, y_train)\n",
    "    # test \n",
    "    #测试数据预测正确率\n",
    "    start = time.time()\n",
    "    score = clf.score(X_test,y_test)\n",
    "    stop = time.time()\n",
    "    scores.append(score)\n",
    "    t_scores.append(stop-start)\n",
    "    print(\"预测数据正确率：\", str(score))\n",
    "    print(\"测试时间：\",stop-start)\n",
    "    print(\"测试集大小:\", len(y_test))\n",
    "\n",
    "np_scores = np.array(scores)\n",
    "npt_scores = np.array(t_scores)\n",
    "print('------------------------------------------')\n",
    "print('测试时间准确率：',np.mean(npt_scores))\n",
    "print('准确率平均值:',np.mean(np_scores),'准确率方差：', np.std(np_scores))"
   ]
  },
  {
   "cell_type": "markdown",
   "metadata": {},
   "source": [
    "## 测试数据集s"
   ]
  },
  {
   "cell_type": "code",
   "execution_count": null,
   "metadata": {
    "tags": []
   },
   "outputs": [],
   "source": [
    "print(\"s 数据集\")\n",
    "kf = StratifiedKFold(n_splits=10, shuffle=True, random_state=0)\n",
    "scores = []\n",
    "t_scores = []\n",
    "for train_index, test_index in kf.split(tsx, tsy):\n",
    "    X_train, X_test = tsx[train_index], tsx[test_index]\n",
    "    y_train, y_test = tsy[train_index], tsy[test_index]\n",
    "    \n",
    "    # train\n",
    "    clf = HistGradientBoostingClassifier()\n",
    "    clf.fit(X_train, y_train)\n",
    "    # test \n",
    "    #测试数据预测正确率\n",
    "    start = time.time()\n",
    "    score = clf.score(X_test,y_test)\n",
    "    stop = time.time()\n",
    "    scores.append(score)\n",
    "    t_scores.append(stop-start)\n",
    "    print(\"预测数据正确率：\", str(score))\n",
    "    print(\"测试时间：\",stop-start)\n",
    "    print(\"测试集大小:\", len(y_test))\n",
    "\n",
    "np_scores = np.array(scores)\n",
    "npt_scores = np.array(t_scores)\n",
    "print('------------------------------------------')\n",
    "print('测试时间准确率：',np.mean(npt_scores))\n",
    "print('准确率平均值:',np.mean(np_scores),'准确率方差：', np.std(np_scores))"
   ]
  },
  {
   "cell_type": "markdown",
   "metadata": {},
   "source": [
    "## 测试2：clf = RandomForestClassifier(random_state=0)\n",
    "地址：https://scikit-learn.org/stable/modules/generated/sklearn.ensemble.RandomForestClassifier.html?highlight=forest#sklearn.ensemble.RandomForestClassifier\n",
    "## 数据集f"
   ]
  },
  {
   "cell_type": "code",
   "execution_count": null,
   "metadata": {
    "tags": []
   },
   "outputs": [],
   "source": [
    "from sklearn.ensemble import RandomForestClassifier\n",
    "from sklearn.datasets import make_classification\n",
    "\n",
    "kf = StratifiedKFold(n_splits=10, shuffle=True, random_state=0)\n",
    "scores = []\n",
    "t_scores = []\n",
    "print(\"f 数据集\")\n",
    "for train_index, test_index in kf.split(tx, ty):\n",
    "    X_train, X_test = tx[train_index], tx[test_index]\n",
    "    y_train, y_test = ty[train_index], ty[test_index]\n",
    "    \n",
    "    # train\n",
    "    clf = RandomForestClassifier(random_state=0)\n",
    "    clf.fit(X_train, y_train)\n",
    "    # test \n",
    "    #测试数据预测正确率\n",
    "    start = time.time()\n",
    "    score = clf.score(X_test,y_test)\n",
    "    stop = time.time()\n",
    "    scores.append(score)\n",
    "    t_scores.append(stop-start)\n",
    "    print(\"预测数据正确率：\", str(score))\n",
    "    print(\"测试时间：\",stop-start)\n",
    "    print(\"测试集大小:\", len(y_test))\n",
    "\n",
    "np_scores = np.array(scores)\n",
    "npt_scores = np.array(t_scores)\n",
    "print('------------------------------------------')\n",
    "print('测试时间准确率：',np.mean(npt_scores))\n",
    "print('准确率平均值:',np.mean(np_scores),'准确率方差：', np.std(np_scores))"
   ]
  },
  {
   "cell_type": "markdown",
   "metadata": {},
   "source": [
    "## 数据集s"
   ]
  },
  {
   "cell_type": "code",
   "execution_count": null,
   "metadata": {
    "tags": []
   },
   "outputs": [],
   "source": [
    "kf = StratifiedKFold(n_splits=10, shuffle=True, random_state=0)\n",
    "scores = []\n",
    "t_scores = []\n",
    "print(\"f 数据集\")\n",
    "for train_index, test_index in kf.split(tsx, tsy):\n",
    "    X_train, X_test = tsx[train_index], tsx[test_index]\n",
    "    y_train, y_test = tsy[train_index], tsy[test_index]\n",
    "    \n",
    "    # train\n",
    "    clf = RandomForestClassifier(random_state=0)\n",
    "    clf.fit(X_train, y_train)\n",
    "    # test \n",
    "    #测试数据预测正确率\n",
    "    start = time.time()\n",
    "    score = clf.score(X_test,y_test)\n",
    "    stop = time.time()\n",
    "    scores.append(score)\n",
    "    t_scores.append(stop-start)\n",
    "    print(\"预测数据正确率：\", str(score))\n",
    "    print(\"测试时间：\",stop-start)\n",
    "    print(\"测试集大小:\", len(y_test))\n",
    "\n",
    "np_scores = np.array(scores)\n",
    "npt_scores = np.array(t_scores)\n",
    "print('------------------------------------------')\n",
    "print('测试时间准确率：',np.mean(npt_scores))\n",
    "print('准确率平均值:',np.mean(np_scores),'准确率方差：', np.std(np_scores))"
   ]
  },
  {
   "cell_type": "markdown",
   "metadata": {},
   "source": [
    "## 测试3：clf = BaggingClassifier(base_estimator=SVC(),n_estimators=10, random_state=0).fit(X, y)\n",
    "地址：https://scikit-learn.org/stable/modules/generated/sklearn.ensemble.BaggingClassifier.html?highlight=classi#sklearn.ensemble.BaggingClassifier\n",
    "## 数据集f"
   ]
  },
  {
   "cell_type": "code",
   "execution_count": null,
   "metadata": {
    "tags": []
   },
   "outputs": [],
   "source": [
    "from sklearn.svm import SVC\n",
    "from sklearn.ensemble import BaggingClassifier\n",
    "from sklearn.datasets import make_classification\n",
    "\n",
    "kf = StratifiedKFold(n_splits=10, shuffle=True, random_state=0)\n",
    "scores = []\n",
    "t_scores = []\n",
    "print(\"f 数据集\")\n",
    "for train_index, test_index in kf.split(tx, ty):\n",
    "    X_train, X_test = tx[train_index], tx[test_index]\n",
    "    y_train, y_test = ty[train_index], ty[test_index]\n",
    "    \n",
    "    # train\n",
    "    clf = BaggingClassifier(base_estimator=SVC(),n_estimators=10, random_state=0)\n",
    "    clf.fit(X_train, y_train)\n",
    "    # test \n",
    "    #测试数据预测正确率\n",
    "    start = time.time()\n",
    "    score = clf.score(X_test,y_test)\n",
    "    stop = time.time()\n",
    "    scores.append(score)\n",
    "    t_scores.append(stop-start)\n",
    "    print(\"预测数据正确率：\", str(score))\n",
    "    print(\"测试时间：\",stop-start)\n",
    "    print(\"测试集大小:\", len(y_test))\n",
    "\n",
    "np_scores = np.array(scores)\n",
    "npt_scores = np.array(t_scores)\n",
    "print('------------------------------------------')\n",
    "print('测试时间准确率：',np.mean(npt_scores))\n",
    "print('准确率平均值:',np.mean(np_scores),'准确率方差：', np.std(np_scores))"
   ]
  },
  {
   "cell_type": "markdown",
   "metadata": {},
   "source": [
    "## 数据集s"
   ]
  },
  {
   "cell_type": "code",
   "execution_count": null,
   "metadata": {
    "tags": []
   },
   "outputs": [],
   "source": [
    "kf = StratifiedKFold(n_splits=10, shuffle=True, random_state=0)\n",
    "scores = []\n",
    "t_scores = []\n",
    "print(\"f 数据集\")\n",
    "for train_index, test_index in kf.split(tsx, tsy):\n",
    "    X_train, X_test = tsx[train_index], tsx[test_index]\n",
    "    y_train, y_test = tsy[train_index], tsy[test_index]\n",
    "    \n",
    "    # train\n",
    "    clf = BaggingClassifier(base_estimator=SVC(),n_estimators=10, random_state=0)\n",
    "    clf.fit(X_train, y_train)\n",
    "    # test \n",
    "    #测试数据预测正确率\n",
    "    start = time.time()\n",
    "    score = clf.score(X_test,y_test)\n",
    "    stop = time.time()\n",
    "    scores.append(score)\n",
    "    t_scores.append(stop-start)\n",
    "    print(\"预测数据正确率：\", str(score))\n",
    "    print(\"测试时间：\",stop-start)\n",
    "    print(\"测试集大小:\", len(y_test))\n",
    "\n",
    "np_scores = np.array(scores)\n",
    "npt_scores = np.array(t_scores)\n",
    "print('------------------------------------------')\n",
    "print('测试时间准确率：',np.mean(npt_scores))\n",
    "print('准确率平均值:',np.mean(np_scores),'准确率方差：', np.std(np_scores))"
   ]
  },
  {
   "cell_type": "markdown",
   "metadata": {},
   "source": [
    "## 测试4：clf = ExtraTreesClassifier(n_estimators=100, random_state=0)\n",
    "地址：https://scikit-learn.org/stable/modules/generated/sklearn.ensemble.ExtraTreesClassifier.html?highlight=classi#sklearn.ensemble.ExtraTreesClassifier\n",
    "## 数据集f"
   ]
  },
  {
   "cell_type": "code",
   "execution_count": null,
   "metadata": {
    "tags": []
   },
   "outputs": [],
   "source": [
    "from sklearn.ensemble import ExtraTreesClassifier\n",
    "from sklearn.datasets import make_classification\n",
    "\n",
    "kf = StratifiedKFold(n_splits=10, shuffle=True, random_state=0)\n",
    "scores = []\n",
    "t_scores = []\n",
    "print(\"f 数据集\")\n",
    "for train_index, test_index in kf.split(tx, ty):\n",
    "    X_train, X_test = tx[train_index], tx[test_index]\n",
    "    y_train, y_test = ty[train_index], ty[test_index]\n",
    "    \n",
    "    # train\n",
    "    clf = ExtraTreesClassifier(n_estimators=100, random_state=0)\n",
    "    clf.fit(X_train, y_train)\n",
    "    # test \n",
    "    #测试数据预测正确率\n",
    "    start = time.time()\n",
    "    score = clf.score(X_test,y_test)\n",
    "    stop = time.time()\n",
    "    scores.append(score)\n",
    "    t_scores.append(stop-start)\n",
    "    print(\"预测数据正确率：\", str(score))\n",
    "    print(\"测试时间：\",stop-start)\n",
    "    print(\"测试集大小:\", len(y_test))\n",
    "\n",
    "np_scores = np.array(scores)\n",
    "npt_scores = np.array(t_scores)\n",
    "print('------------------------------------------')\n",
    "print('测试时间准确率：',np.mean(npt_scores))\n",
    "print('准确率平均值:',np.mean(np_scores),'准确率方差：', np.std(np_scores))"
   ]
  },
  {
   "cell_type": "markdown",
   "metadata": {},
   "source": [
    "## 数据集S"
   ]
  },
  {
   "cell_type": "code",
   "execution_count": null,
   "metadata": {
    "tags": []
   },
   "outputs": [],
   "source": [
    "kf = StratifiedKFold(n_splits=10, shuffle=True, random_state=0)\n",
    "scores = []\n",
    "t_scores = []\n",
    "print(\"f 数据集\")\n",
    "for train_index, test_index in kf.split(tsx, tsy):\n",
    "    X_train, X_test = tsx[train_index], tsx[test_index]\n",
    "    y_train, y_test = tsy[train_index], tsy[test_index]\n",
    "    \n",
    "    # train\n",
    "    clf = ExtraTreesClassifier(n_estimators=100, random_state=0)\n",
    "    clf.fit(X_train, y_train)\n",
    "    # test \n",
    "    #测试数据预测正确率\n",
    "    start = time.time()\n",
    "    score = clf.score(X_test,y_test)\n",
    "    stop = time.time()\n",
    "    scores.append(score)\n",
    "    t_scores.append(stop-start)\n",
    "    print(\"预测数据正确率：\", str(score))\n",
    "    print(\"测试时间：\",stop-start)\n",
    "    print(\"测试集大小:\", len(y_test))\n",
    "\n",
    "np_scores = np.array(scores)\n",
    "npt_scores = np.array(t_scores)\n",
    "print('------------------------------------------')\n",
    "print('测试时间准确率：',np.mean(npt_scores))\n",
    "print('准确率平均值:',np.mean(np_scores),'准确率方差：', np.std(np_scores))"
   ]
  },
  {
   "cell_type": "markdown",
   "metadata": {},
   "source": [
    "## 测试5：clf = GradientBoostingClassifier(random_state=0)\n",
    "地址：https://scikit-learn.org/stable/modules/generated/sklearn.ensemble.GradientBoostingClassifier.html?highlight=classi#sklearn.ensemble.GradientBoostingClassifier\n",
    "## 数据集f"
   ]
  },
  {
   "cell_type": "code",
   "execution_count": null,
   "metadata": {
    "tags": []
   },
   "outputs": [],
   "source": [
    "from sklearn.datasets import make_classification\n",
    "from sklearn.ensemble import GradientBoostingClassifier\n",
    "from sklearn.model_selection import train_test_split\n",
    "\n",
    "kf = StratifiedKFold(n_splits=10, shuffle=True, random_state=0)\n",
    "scores = []\n",
    "t_scores = []\n",
    "print(\"f 数据集\")\n",
    "for train_index, test_index in kf.split(tx, ty):\n",
    "    X_train, X_test = tx[train_index], tx[test_index]\n",
    "    y_train, y_test = ty[train_index], ty[test_index]\n",
    "    \n",
    "    # train\n",
    "    clf = GradientBoostingClassifier(random_state=0)\n",
    "    clf.fit(X_train, y_train)\n",
    "    # test \n",
    "    #测试数据预测正确率\n",
    "    start = time.time()\n",
    "    score = clf.score(X_test,y_test)\n",
    "    stop = time.time()\n",
    "    scores.append(score)\n",
    "    t_scores.append(stop-start)\n",
    "    print(\"预测数据正确率：\", str(score))\n",
    "    print(\"测试时间：\",stop-start)\n",
    "    print(\"测试集大小:\", len(y_test))\n",
    "\n",
    "np_scores = np.array(scores)\n",
    "npt_scores = np.array(t_scores)\n",
    "print('------------------------------------------')\n",
    "print('测试时间准确率：',np.mean(npt_scores))\n",
    "print('准确率平均值:',np.mean(np_scores),'准确率方差：', np.std(np_scores))"
   ]
  },
  {
   "cell_type": "markdown",
   "metadata": {},
   "source": [
    "## 数据集S"
   ]
  },
  {
   "cell_type": "code",
   "execution_count": null,
   "metadata": {
    "tags": []
   },
   "outputs": [],
   "source": [
    "kf = StratifiedKFold(n_splits=10, shuffle=True, random_state=0)\n",
    "scores = []\n",
    "t_scores = []\n",
    "print(\"f 数据集\")\n",
    "for train_index, test_index in kf.split(tsx, tsy):\n",
    "    X_train, X_test = tsx[train_index], tsx[test_index]\n",
    "    y_train, y_test = tsy[train_index], tsy[test_index]\n",
    "    \n",
    "    # train\n",
    "    clf = GradientBoostingClassifier(random_state=0)\n",
    "    clf.fit(X_train, y_train)\n",
    "    # test \n",
    "    #测试数据预测正确率\n",
    "    start = time.time()\n",
    "    score = clf.score(X_test,y_test)\n",
    "    stop = time.time()\n",
    "    scores.append(score)\n",
    "    t_scores.append(stop-start)\n",
    "    print(\"预测数据正确率：\", str(score))\n",
    "    print(\"测试时间：\",stop-start)\n",
    "    print(\"测试集大小:\", len(y_test))\n",
    "\n",
    "np_scores = np.array(scores)\n",
    "npt_scores = np.array(t_scores)\n",
    "print('------------------------------------------')\n",
    "print('测试时间准确率：',np.mean(npt_scores))\n",
    "print('准确率平均值:',np.mean(np_scores),'准确率方差：', np.std(np_scores))"
   ]
  },
  {
   "cell_type": "markdown",
   "metadata": {},
   "source": [
    "## 测试6：clf = StackingClassifier(estimators=estimators, final_estimator=LogisticRegression())\n",
    "地址：https://scikit-learn.org/stable/modules/generated/sklearn.ensemble.StackingClassifier.html?highlight=classi#sklearn.ensemble.StackingClassifier\n",
    "## 数据集f"
   ]
  },
  {
   "cell_type": "code",
   "execution_count": null,
   "metadata": {
    "tags": []
   },
   "outputs": [],
   "source": [
    "from sklearn.datasets import load_iris\n",
    "from sklearn.ensemble import RandomForestClassifier\n",
    "from sklearn.svm import LinearSVC\n",
    "from sklearn.linear_model import LogisticRegression\n",
    "from sklearn.preprocessing import StandardScaler\n",
    "from sklearn.pipeline import make_pipeline\n",
    "from sklearn.ensemble import StackingClassifier\n",
    "\n",
    "kf = StratifiedKFold(n_splits=10, shuffle=True, random_state=0)\n",
    "scores = []\n",
    "t_scores = []\n",
    "print(\"f 数据集\")\n",
    "for train_index, test_index in kf.split(tx, ty):\n",
    "    X_train, X_test = tx[train_index], tx[test_index]\n",
    "    y_train, y_test = ty[train_index], ty[test_index]\n",
    "    \n",
    "    # train\n",
    "    estimators = [\n",
    "    ('rf', RandomForestClassifier(n_estimators=10, random_state=42)),\n",
    "    ('svr', make_pipeline(StandardScaler(),\n",
    "                          LinearSVC(random_state=42)))\n",
    "]\n",
    "    clf = StackingClassifier(\n",
    "    estimators=estimators, final_estimator=LogisticRegression()\n",
    ")\n",
    "    clf.fit(X_train, y_train)\n",
    "    # test \n",
    "    #测试数据预测正确率\n",
    "    start = time.time()\n",
    "    score = clf.score(X_test,y_test)\n",
    "    stop = time.time()\n",
    "    scores.append(score)\n",
    "    t_scores.append(stop-start)\n",
    "    print(\"预测数据正确率：\", str(score))\n",
    "    print(\"测试时间：\",stop-start)\n",
    "    print(\"测试集大小:\", len(y_test))\n",
    "\n",
    "np_scores = np.array(scores)\n",
    "npt_scores = np.array(t_scores)\n",
    "print('------------------------------------------')\n",
    "print('测试时间准确率：',np.mean(npt_scores))\n",
    "print('准确率平均值:',np.mean(np_scores),'准确率方差：', np.std(np_scores))"
   ]
  },
  {
   "cell_type": "markdown",
   "metadata": {},
   "source": [
    "## 数据集S"
   ]
  },
  {
   "cell_type": "code",
   "execution_count": null,
   "metadata": {
    "tags": []
   },
   "outputs": [],
   "source": [
    "kf = StratifiedKFold(n_splits=10, shuffle=True, random_state=0)\n",
    "scores = []\n",
    "t_scores = []\n",
    "print(\"s 数据集\")\n",
    "for train_index, test_index in kf.split(tsx, tsy):\n",
    "    X_train, X_test = tsx[train_index], tsx[test_index]\n",
    "    y_train, y_test = tsy[train_index], tsy[test_index]\n",
    "    \n",
    "    # train\n",
    "    estimators = [\n",
    "    ('rf', RandomForestClassifier(n_estimators=10, random_state=42)),\n",
    "    ('svr', make_pipeline(StandardScaler(),\n",
    "                          LinearSVC(random_state=42)))\n",
    "]\n",
    "    clf = StackingClassifier(\n",
    "    estimators=estimators, final_estimator=LogisticRegression()\n",
    ")\n",
    "    clf.fit(X_train, y_train)\n",
    "    # test \n",
    "    #测试数据预测正确率\n",
    "    start = time.time()\n",
    "    score = clf.score(X_test,y_test)\n",
    "    stop = time.time()\n",
    "    scores.append(score)\n",
    "    t_scores.append(stop-start)\n",
    "    print(\"预测数据正确率：\", str(score))\n",
    "    print(\"测试时间：\",stop-start)\n",
    "    print(\"测试集大小:\", len(y_test))\n",
    "\n",
    "np_scores = np.array(scores)\n",
    "npt_scores = np.array(t_scores)\n",
    "print('------------------------------------------')\n",
    "print('测试时间准确率：',np.mean(npt_scores))\n",
    "print('准确率平均值:',np.mean(np_scores),'准确率方差：', np.std(np_scores))"
   ]
  },
  {
   "cell_type": "markdown",
   "metadata": {},
   "source": [
    "## 测试7：clf = GaussianProcessClassifier(kernel=kernel,random_state=0)\n",
    "地址：https://scikit-learn.org/stable/modules/generated/sklearn.gaussian_process.GaussianProcessClassifier.html?highlight=classi#sklearn.gaussian_process.GaussianProcessClassifier\n",
    "## 数据集f"
   ]
  },
  {
   "cell_type": "code",
   "execution_count": null,
   "metadata": {
    "tags": []
   },
   "outputs": [],
   "source": [
    "from sklearn.datasets import load_iris\n",
    "from sklearn.gaussian_process import GaussianProcessClassifier\n",
    "from sklearn.gaussian_process.kernels import RBF\n",
    "\n",
    "kf = StratifiedKFold(n_splits=10, shuffle=True, random_state=0)\n",
    "scores = []\n",
    "t_scores = []\n",
    "print(\"f 数据集\")\n",
    "for train_index, test_index in kf.split(tx, ty):\n",
    "    X_train, X_test = tx[train_index], tx[test_index]\n",
    "    y_train, y_test = ty[train_index], ty[test_index]\n",
    "    \n",
    "    # train\n",
    "    clf = GaussianProcessClassifier()\n",
    "    clf.fit(X_train, y_train)\n",
    "    # test \n",
    "    #测试数据预测正确率\n",
    "    start = time.time()\n",
    "    score = clf.score(X_test,y_test)\n",
    "    stop = time.time()\n",
    "    scores.append(score)\n",
    "    t_scores.append(stop-start)\n",
    "    print(\"预测数据正确率：\", str(score))\n",
    "    print(\"测试时间：\",stop-start)\n",
    "    print(\"测试集大小:\", len(y_test))\n",
    "\n",
    "np_scores = np.array(scores)\n",
    "npt_scores = np.array(t_scores)\n",
    "print('------------------------------------------')\n",
    "print('测试时间准确率：',np.mean(npt_scores))\n",
    "print('准确率平均值:',np.mean(np_scores),'准确率方差：', np.std(np_scores))"
   ]
  },
  {
   "cell_type": "markdown",
   "metadata": {},
   "source": [
    "## 数据集S"
   ]
  },
  {
   "cell_type": "code",
   "execution_count": null,
   "metadata": {
    "tags": []
   },
   "outputs": [],
   "source": [
    "kf = StratifiedKFold(n_splits=10, shuffle=True, random_state=0)\n",
    "scores = []\n",
    "t_scores = []\n",
    "print(\"s 数据集\")\n",
    "for train_index, test_index in kf.split(tsx, tsy):\n",
    "    X_train, X_test = tsx[train_index], tsx[test_index]\n",
    "    y_train, y_test = tsy[train_index], tsy[test_index]\n",
    "    \n",
    "    # train\n",
    "    kernel = 1.0 * RBF(1.0)\n",
    "\n",
    "    clf = GaussianProcessClassifier(kernel=kernel,\n",
    "        random_state=0)\n",
    "    clf.fit(X_train, y_train)\n",
    "    # test \n",
    "    #测试数据预测正确率\n",
    "    start = time.time()\n",
    "    score = clf.score(X_test,y_test)\n",
    "    stop = time.time()\n",
    "    scores.append(score)\n",
    "    t_scores.append(stop-start)\n",
    "    print(\"预测数据正确率：\", str(score))\n",
    "    print(\"测试时间：\",stop-start)\n",
    "    print(\"测试集大小:\", len(y_test))\n",
    "\n",
    "np_scores = np.array(scores)\n",
    "npt_scores = np.array(t_scores)\n",
    "print('------------------------------------------')\n",
    "print('测试时间准确率：',np.mean(npt_scores))\n",
    "print('准确率平均值:',np.mean(np_scores),'准确率方差：', np.std(np_scores))"
   ]
  },
  {
   "cell_type": "code",
   "execution_count": null,
   "metadata": {},
   "outputs": [],
   "source": []
  },
  {
   "cell_type": "markdown",
   "metadata": {},
   "source": [
    "## 测试8：SVC\n",
    "地址：https://scikit-learn.org/stable/modules/generated/sklearn.svm.LinearSVC.html#sklearn.svm.LinearSVC"
   ]
  },
  {
   "cell_type": "markdown",
   "metadata": {},
   "source": [
    "## 数据集f"
   ]
  },
  {
   "cell_type": "code",
   "execution_count": null,
   "metadata": {},
   "outputs": [],
   "source": [
    "from sklearn.datasets import load_iris\n",
    "from sklearn.gaussian_process import GaussianProcessClassifier\n",
    "from sklearn.gaussian_process.kernels import RBF\n",
    "\n",
    "kf = StratifiedKFold(n_splits=10, shuffle=True, random_state=0)\n",
    "scores = []\n",
    "t_scores = []\n",
    "print(\"f 数据集\")\n",
    "for train_index, test_index in kf.split(tx, ty):\n",
    "    X_train, X_test = tx[train_index], tx[test_index]\n",
    "    y_train, y_test = ty[train_index], ty[test_index]\n",
    "    \n",
    "    # train\n",
    "    clf = SVC()\n",
    "    clf.fit(X_train, y_train)\n",
    "    # test \n",
    "    #测试数据预测正确率\n",
    "    start = time.time()\n",
    "    score = clf.score(X_test,y_test)\n",
    "    stop = time.time()\n",
    "    scores.append(score)\n",
    "    t_scores.append(stop-start)\n",
    "    print(\"预测数据正确率：\", str(score))\n",
    "    print(\"测试时间：\",stop-start)\n",
    "    print(\"测试集大小:\", len(y_test))\n",
    "\n",
    "np_scores = np.array(scores)\n",
    "npt_scores = np.array(t_scores)\n",
    "print('------------------------------------------')\n",
    "print('测试时间准确率：',np.mean(npt_scores))\n",
    "print('准确率平均值:',np.mean(np_scores),'准确率方差：', np.std(np_scores))"
   ]
  },
  {
   "cell_type": "markdown",
   "metadata": {},
   "source": [
    "## 数据集S"
   ]
  },
  {
   "cell_type": "code",
   "execution_count": null,
   "metadata": {},
   "outputs": [],
   "source": [
    "kf = StratifiedKFold(n_splits=10, shuffle=True, random_state=0)\n",
    "scores = []\n",
    "t_scores = []\n",
    "print(\"s 数据集\")\n",
    "for train_index, test_index in kf.split(tsx, tsy):\n",
    "    X_train, X_test = tsx[train_index], tsx[test_index]\n",
    "    y_train, y_test = tsy[train_index], tsy[test_index]\n",
    "    \n",
    "    # train\n",
    "    kernel = 1.0 * RBF(1.0)\n",
    "\n",
    "    clf = GaussianProcessClassifier(kernel=kernel,\n",
    "        random_state=0)\n",
    "    clf.fit(X_train, y_train)\n",
    "    # test \n",
    "    #测试数据预测正确率\n",
    "    start = time.time()\n",
    "    score = clf.score(X_test,y_test)\n",
    "    stop = time.time()\n",
    "    scores.append(score)\n",
    "    t_scores.append(stop-start)\n",
    "    print(\"预测数据正确率：\", str(score))\n",
    "    print(\"测试时间：\",stop-start)\n",
    "    print(\"测试集大小:\", len(y_test))\n",
    "\n",
    "np_scores = np.array(scores)\n",
    "npt_scores = np.array(t_scores)\n",
    "print('------------------------------------------')\n",
    "print('测试时间准确率：',np.mean(npt_scores))\n",
    "print('准确率平均值:',np.mean(np_scores),'准确率方差：', np.std(np_scores))"
   ]
  },
  {
   "cell_type": "markdown",
   "metadata": {},
   "source": [
    "## 测试9：GaussianNB\n",
    "地址：https://scikit-learn.org/stable/modules/generated/sklearn.naive_bayes.GaussianNB.html#sklearn.naive_bayes.GaussianNB"
   ]
  },
  {
   "cell_type": "markdown",
   "metadata": {},
   "source": [
    "## 数据集f"
   ]
  },
  {
   "cell_type": "code",
   "execution_count": null,
   "metadata": {
    "tags": []
   },
   "outputs": [],
   "source": [
    "from sklearn.naive_bayes import GaussianNB\n",
    "\n",
    "kf = StratifiedKFold(n_splits=10, shuffle=True, random_state=0)\n",
    "scores = []\n",
    "t_scores = []\n",
    "print(\"f 数据集\")\n",
    "for train_index, test_index in kf.split(tx, ty):\n",
    "    X_train, X_test = tx[train_index], tx[test_index]\n",
    "    y_train, y_test = ty[train_index], ty[test_index]\n",
    "    \n",
    "    # train\n",
    "    clf = GaussianNB()\n",
    "    clf.fit(X_train, y_train)\n",
    "    # test \n",
    "    #测试数据预测正确率\n",
    "    start = time.time()\n",
    "    score = clf.score(X_test,y_test)\n",
    "    stop = time.time()\n",
    "    scores.append(score)\n",
    "    t_scores.append(stop-start)\n",
    "    print(\"预测数据正确率：\", str(score))\n",
    "    print(\"测试时间：\",stop-start)\n",
    "    print(\"测试集大小:\", len(y_test))\n",
    "\n",
    "np_scores = np.array(scores)\n",
    "npt_scores = np.array(t_scores)\n",
    "print('------------------------------------------')\n",
    "print('测试时间准确率：',np.mean(npt_scores))\n",
    "print('准确率平均值:',np.mean(np_scores),'准确率方差：', np.std(np_scores))"
   ]
  },
  {
   "cell_type": "markdown",
   "metadata": {},
   "source": [
    "## 数据集S"
   ]
  },
  {
   "cell_type": "code",
   "execution_count": null,
   "metadata": {},
   "outputs": [],
   "source": [
    "kf = StratifiedKFold(n_splits=10, shuffle=True, random_state=0)\n",
    "scores = []\n",
    "t_scores = []\n",
    "print(\"s 数据集\")\n",
    "for train_index, test_index in kf.split(tsx, tsy):\n",
    "    X_train, X_test = tsx[train_index], tsx[test_index]\n",
    "    y_train, y_test = tsy[train_index], tsy[test_index]\n",
    "    \n",
    "    # train\n",
    "    kernel = 1.0 * RBF(1.0)\n",
    "\n",
    "    clf = GaussianNB()\n",
    "    clf.fit(X_train, y_train)\n",
    "    # test \n",
    "    #测试数据预测正确率\n",
    "    start = time.time()\n",
    "    score = clf.score(X_test,y_test)\n",
    "    stop = time.time()\n",
    "    scores.append(score)\n",
    "    t_scores.append(stop-start)\n",
    "    print(\"预测数据正确率：\", str(score))\n",
    "    print(\"测试时间：\",stop-start)\n",
    "    print(\"测试集大小:\", len(y_test))\n",
    "\n",
    "np_scores = np.array(scores)\n",
    "npt_scores = np.array(t_scores)\n",
    "print('------------------------------------------')\n",
    "print('测试时间准确率：',np.mean(npt_scores))\n",
    "print('准确率平均值:',np.mean(np_scores),'准确率方差：', np.std(np_scores))"
   ]
  },
  {
   "cell_type": "markdown",
   "metadata": {},
   "source": [
    "## 测试10：RidgeClassifier\n",
    "地址：https://scikit-learn.org/stable/modules/generated/sklearn.linear_model.RidgeClassifier.html#sklearn.linear_model.RidgeClassifier"
   ]
  },
  {
   "cell_type": "markdown",
   "metadata": {},
   "source": [
    "## 数据集f"
   ]
  },
  {
   "cell_type": "code",
   "execution_count": null,
   "metadata": {},
   "outputs": [],
   "source": [
    "from sklearn.linear_model import RidgeClassifier\n",
    "\n",
    "kf = StratifiedKFold(n_splits=10, shuffle=True, random_state=0)\n",
    "scores = []\n",
    "t_scores = []\n",
    "print(\"f 数据集\")\n",
    "for train_index, test_index in kf.split(tx, ty):\n",
    "    X_train, X_test = tx[train_index], tx[test_index]\n",
    "    y_train, y_test = ty[train_index], ty[test_index]\n",
    "    \n",
    "    # train\n",
    "    clf = RidgeClassifier()\n",
    "    clf.fit(X_train, y_train)\n",
    "    # test \n",
    "    #测试数据预测正确率\n",
    "    start = time.time()\n",
    "    score = clf.score(X_test,y_test)\n",
    "    stop = time.time()\n",
    "    scores.append(score)\n",
    "    t_scores.append(stop-start)\n",
    "    print(\"预测数据正确率：\", str(score))\n",
    "    print(\"测试时间：\",stop-start)\n",
    "    print(\"测试集大小:\", len(y_test))\n",
    "\n",
    "np_scores = np.array(scores)\n",
    "npt_scores = np.array(t_scores)\n",
    "print('------------------------------------------')\n",
    "print('测试时间准确率：',np.mean(npt_scores))\n",
    "print('准确率平均值:',np.mean(np_scores),'准确率方差：', np.std(np_scores))"
   ]
  },
  {
   "cell_type": "markdown",
   "metadata": {},
   "source": [
    "## 数据集S"
   ]
  },
  {
   "cell_type": "code",
   "execution_count": null,
   "metadata": {},
   "outputs": [],
   "source": [
    "kf = StratifiedKFold(n_splits=10, shuffle=True, random_state=0)\n",
    "scores = []\n",
    "t_scores = []\n",
    "print(\"s 数据集\")\n",
    "for train_index, test_index in kf.split(tsx, tsy):\n",
    "    X_train, X_test = tsx[train_index], tsx[test_index]\n",
    "    y_train, y_test = tsy[train_index], tsy[test_index]\n",
    "    \n",
    "    # train\n",
    "    kernel = 1.0 * RBF(1.0)\n",
    "\n",
    "    clf = RidgeClassifier()\n",
    "    clf.fit(X_train, y_train)\n",
    "    # test \n",
    "    #测试数据预测正确率\n",
    "    start = time.time()\n",
    "    score = clf.score(X_test,y_test)\n",
    "    stop = time.time()\n",
    "    scores.append(score)\n",
    "    t_scores.append(stop-start)\n",
    "    print(\"预测数据正确率：\", str(score))\n",
    "    print(\"测试时间：\",stop-start)\n",
    "    print(\"测试集大小:\", len(y_test))\n",
    "\n",
    "np_scores = np.array(scores)\n",
    "npt_scores = np.array(t_scores)\n",
    "print('------------------------------------------')\n",
    "print('测试时间准确率：',np.mean(npt_scores))\n",
    "print('准确率平均值:',np.mean(np_scores),'准确率方差：', np.std(np_scores))"
   ]
  },
  {
   "cell_type": "markdown",
   "metadata": {},
   "source": [
    "## 测试11：PassiveAggressiveClassifier\n",
    "地址：https://scikit-learn.org/stable/modules/generated/sklearn.linear_model.PassiveAggressiveClassifier.html#sklearn.linear_model.PassiveAggressiveClassifier"
   ]
  },
  {
   "cell_type": "markdown",
   "metadata": {},
   "source": [
    "## 数据集f"
   ]
  },
  {
   "cell_type": "code",
   "execution_count": null,
   "metadata": {
    "tags": []
   },
   "outputs": [],
   "source": [
    "from sklearn.linear_model import PassiveAggressiveClassifier\n",
    "\n",
    "kf = StratifiedKFold(n_splits=10, shuffle=True, random_state=0)\n",
    "scores = []\n",
    "t_scores = []\n",
    "print(\"f 数据集\")\n",
    "for train_index, test_index in kf.split(tx, ty):\n",
    "    X_train, X_test = tx[train_index], tx[test_index]\n",
    "    y_train, y_test = ty[train_index], ty[test_index]\n",
    "    \n",
    "    # train\n",
    "    clf = PassiveAggressiveClassifier()\n",
    "    clf.fit(X_train, y_train)\n",
    "    # test \n",
    "    #测试数据预测正确率\n",
    "    start = time.time()\n",
    "    score = clf.score(X_test,y_test)\n",
    "    stop = time.time()\n",
    "    scores.append(score)\n",
    "    t_scores.append(stop-start)\n",
    "    print(\"预测数据正确率：\", str(score))\n",
    "    print(\"测试时间：\",stop-start)\n",
    "    print(\"测试集大小:\", len(y_test))\n",
    "\n",
    "np_scores = np.array(scores)\n",
    "npt_scores = np.array(t_scores)\n",
    "print('------------------------------------------')\n",
    "print('测试时间准确率：',np.mean(npt_scores))\n",
    "print('准确率平均值:',np.mean(np_scores),'准确率方差：', np.std(np_scores))"
   ]
  },
  {
   "cell_type": "markdown",
   "metadata": {},
   "source": [
    "## 数据集S"
   ]
  },
  {
   "cell_type": "code",
   "execution_count": null,
   "metadata": {},
   "outputs": [],
   "source": [
    "kf = StratifiedKFold(n_splits=10, shuffle=True, random_state=0)\n",
    "scores = []\n",
    "t_scores = []\n",
    "print(\"s 数据集\")\n",
    "for train_index, test_index in kf.split(tsx, tsy):\n",
    "    X_train, X_test = tsx[train_index], tsx[test_index]\n",
    "    y_train, y_test = tsy[train_index], tsy[test_index]\n",
    "    \n",
    "    # train\n",
    "    kernel = 1.0 * RBF(1.0)\n",
    "\n",
    "    clf = PassiveAggressiveClassifier()\n",
    "    clf.fit(X_train, y_train)\n",
    "    # test \n",
    "    #测试数据预测正确率\n",
    "    start = time.time()\n",
    "    score = clf.score(X_test,y_test)\n",
    "    stop = time.time()\n",
    "    scores.append(score)\n",
    "    t_scores.append(stop-start)\n",
    "    print(\"预测数据正确率：\", str(score))\n",
    "    print(\"测试时间：\",stop-start)\n",
    "    print(\"测试集大小:\", len(y_test))\n",
    "\n",
    "np_scores = np.array(scores)\n",
    "npt_scores = np.array(t_scores)\n",
    "print('------------------------------------------')\n",
    "print('测试时间准确率：',np.mean(npt_scores))\n",
    "print('准确率平均值:',np.mean(np_scores),'准确率方差：', np.std(np_scores))"
   ]
  },
  {
   "cell_type": "markdown",
   "metadata": {},
   "source": [
    "## 测试12：SGDClassifier\n",
    "地址：https://scikit-learn.org/stable/modules/generated/sklearn.linear_model.SGDClassifier.html#sklearn.linear_model.SGDClassifier"
   ]
  },
  {
   "cell_type": "markdown",
   "metadata": {},
   "source": [
    "## 数据集f"
   ]
  },
  {
   "cell_type": "code",
   "execution_count": null,
   "metadata": {
    "tags": []
   },
   "outputs": [],
   "source": [
    "from sklearn.linear_model import SGDClassifier\n",
    "\n",
    "kf = StratifiedKFold(n_splits=10, shuffle=True, random_state=0)\n",
    "scores = []\n",
    "t_scores = []\n",
    "print(\"f 数据集\")\n",
    "for train_index, test_index in kf.split(tx, ty):\n",
    "    X_train, X_test = tx[train_index], tx[test_index]\n",
    "    y_train, y_test = ty[train_index], ty[test_index]\n",
    "    \n",
    "    # train\n",
    "    clf = SGDClassifier()\n",
    "    clf.fit(X_train, y_train)\n",
    "    # test \n",
    "    #测试数据预测正确率\n",
    "    start = time.time()\n",
    "    score = clf.score(X_test,y_test)\n",
    "    stop = time.time()\n",
    "    scores.append(score)\n",
    "    t_scores.append(stop-start)\n",
    "    print(\"预测数据正确率：\", str(score))\n",
    "    print(\"测试时间：\",stop-start)\n",
    "    print(\"测试集大小:\", len(y_test))\n",
    "\n",
    "np_scores = np.array(scores)\n",
    "npt_scores = np.array(t_scores)\n",
    "print('------------------------------------------')\n",
    "print('测试时间准确率：',np.mean(npt_scores))\n",
    "print('准确率平均值:',np.mean(np_scores),'准确率方差：', np.std(np_scores))"
   ]
  },
  {
   "cell_type": "markdown",
   "metadata": {},
   "source": [
    "## 数据集s"
   ]
  },
  {
   "cell_type": "code",
   "execution_count": null,
   "metadata": {},
   "outputs": [],
   "source": [
    "kf = StratifiedKFold(n_splits=10, shuffle=True, random_state=0)\n",
    "scores = []\n",
    "t_scores = []\n",
    "print(\"s 数据集\")\n",
    "for train_index, test_index in kf.split(tsx, tsy):\n",
    "    X_train, X_test = tsx[train_index], tsx[test_index]\n",
    "    y_train, y_test = tsy[train_index], tsy[test_index]\n",
    "    \n",
    "    # train\n",
    "    kernel = 1.0 * RBF(1.0)\n",
    "\n",
    "    clf = SGDClassifier()\n",
    "    clf.fit(X_train, y_train)\n",
    "    # test \n",
    "    #测试数据预测正确率\n",
    "    start = time.time()\n",
    "    score = clf.score(X_test,y_test)\n",
    "    stop = time.time()\n",
    "    scores.append(score)\n",
    "    t_scores.append(stop-start)\n",
    "    print(\"预测数据正确率：\", str(score))\n",
    "    print(\"测试时间：\",stop-start)\n",
    "    print(\"测试集大小:\", len(y_test))\n",
    "\n",
    "np_scores = np.array(scores)\n",
    "npt_scores = np.array(t_scores)\n",
    "print('------------------------------------------')\n",
    "print('测试时间准确率：',np.mean(npt_scores))\n",
    "print('准确率平均值:',np.mean(np_scores),'准确率方差：', np.std(np_scores))"
   ]
  },
  {
   "cell_type": "markdown",
   "metadata": {},
   "source": [
    "## 测试13：xgboost\n",
    "地址：https://xgboost.readthedocs.io/en/latest/"
   ]
  },
  {
   "cell_type": "markdown",
   "metadata": {},
   "source": [
    "## 数据集f"
   ]
  },
  {
   "cell_type": "code",
   "execution_count": null,
   "metadata": {},
   "outputs": [],
   "source": [
    "from sklearn.model_selection import StratifiedKFold\n",
    "import xgboost as xgb\n",
    "\n",
    "kf = StratifiedKFold(n_splits=10)\n",
    "scores = []\n",
    "t_scores = []\n",
    "for train_index, test_index in kf.split(tx, ty):\n",
    "    X_train, X_test = tx[train_index], tx[test_index]\n",
    "    y_train, y_test = ty[train_index], ty[test_index]\n",
    "    \n",
    "    # train\n",
    "    clf = xgb.XGBClassifier(max_depth=16,\n",
    "            objective='multi:softmax',\n",
    "            nthread=-1,\n",
    "            num_class=10,)\n",
    "    \n",
    "    clf.fit(X_train, y_train,\n",
    "        eval_set=[(X_train, y_train), (X_test, y_test)],\n",
    "        verbose=True)\n",
    "\n",
    "    # test \n",
    "    #测试数据预测正确率\n",
    "    start = time.time()\n",
    "    y_pred = clf.predict(X_test)\n",
    "    stop = time.time()\n",
    "    t_scores.append(stop-start)\n",
    "    score = (y_pred == y_test).sum() / len(y_pred)\n",
    "    scores.append(score)\n",
    "    print(\"预测数据正确率：\", str(score))\n",
    "\n",
    "np_scores = np.array(scores)\n",
    "npt_scores = np.array(t_scores)\n",
    "print('测试时间平均值：',np.mean(npt_scores))\n",
    "print('平均准确率:',np.mean(np_scores),'准确率方差：', np.std(np_scores))"
   ]
  },
  {
   "cell_type": "markdown",
   "metadata": {},
   "source": [
    "## 数据集s"
   ]
  },
  {
   "cell_type": "code",
   "execution_count": null,
   "metadata": {},
   "outputs": [],
   "source": [
    "for train_index, test_index in kf.split(tsx, tsy):\n",
    "    X_train, X_test = tsx[train_index], tsx[test_index]\n",
    "    y_train, y_test = tsy[train_index], tsy[test_index]\n",
    "    \n",
    "    # train\n",
    "    clf = xgb.XGBClassifier(\n",
    "            objective='multi:softmax',\n",
    "            nthread=-1,\n",
    "            num_class=10,)\n",
    "    \n",
    "    clf.fit(X_train, y_train,\n",
    "        eval_set=[(X_train, y_train), (X_test, y_test)],\n",
    "        verbose=True)\n",
    "\n",
    "    # test \n",
    "    #测试数据预测正确率\n",
    "    start = time.time()\n",
    "    y_pred = clf.predict(X_test)\n",
    "    stop = time.time()\n",
    "    t_scores.append(stop-start)\n",
    "    score = (y_pred == y_test).sum() / len(y_pred)\n",
    "    scores.append(score)\n",
    "    print(\"预测数据正确率：\", str(score))\n",
    "\n",
    "np_scores = np.array(scores)\n",
    "npt_scores = np.array(t_scores)\n",
    "print('测试时间平均值：',np.mean(npt_scores))\n",
    "print('平均准确率:',np.mean(np_scores),'准确率方差：', np.std(np_scores))"
   ]
  },
  {
   "cell_type": "markdown",
   "metadata": {},
   "source": [
    "## 测试14：lightgbm\n",
    "地址：https://lightgbm.readthedocs.io/en/latest/"
   ]
  },
  {
   "cell_type": "markdown",
   "metadata": {},
   "source": [
    "## 数据集f"
   ]
  },
  {
   "cell_type": "code",
   "execution_count": 45,
   "metadata": {
    "tags": []
   },
   "outputs": [
    {
     "output_type": "stream",
     "name": "stdout",
     "text": "预测数据正确率： 0.91875\n预测数据正确率： 0.93125\n预测数据正确率： 0.8875\n预测数据正确率： 0.94375\n预测数据正确率： 0.90625\n预测数据正确率： 0.94375\n预测数据正确率： 0.98125\n预测数据正确率： 0.9875\n预测数据正确率： 0.9625\n预测数据正确率： 0.94375\n测试时间平均值： 0.003889608383178711\n平均准确率: 0.940625 准确率方差： 0.02987604600679281\n"
    }
   ],
   "source": [
    "from sklearn.model_selection import StratifiedKFold\n",
    "import lightgbm as lgb\n",
    "\n",
    "kf = StratifiedKFold(n_splits=10)\n",
    "scores = []\n",
    "t_scores = []\n",
    "for train_index, test_index in kf.split(tx, ty):\n",
    "    X_train, X_test = tx[train_index], tx[test_index]\n",
    "    y_train, y_test = ty[train_index], ty[test_index]\n",
    "    \n",
    "    lgb_train = lgb.Dataset(X_train, y_train)  \n",
    "    lgb_eval = lgb.Dataset(X_test, y_test)  \n",
    "    \n",
    "    # train\n",
    "    clf = lgb.LGBMClassifier(silient=False)\n",
    "    \n",
    "    clf.fit(X_train, y_train)\n",
    "\n",
    "    # test \n",
    "    #测试数据预测正确率\n",
    "    start = time.time()\n",
    "    y_pred = clf.predict(X_test)\n",
    "    stop = time.time()\n",
    "    t_scores.append(stop-start)\n",
    "    score = (y_pred == y_test).sum() / len(y_pred)\n",
    "    scores.append(score)\n",
    "    print(\"预测数据正确率：\", str(score))\n",
    "\n",
    "np_scores = np.array(scores)\n",
    "npt_scores = np.array(t_scores)\n",
    "print('测试时间平均值：',np.mean(npt_scores))\n",
    "print('平均准确率:',np.mean(np_scores),'准确率方差：', np.std(np_scores))"
   ]
  },
  {
   "cell_type": "markdown",
   "metadata": {},
   "source": [
    "## 数据集S"
   ]
  },
  {
   "cell_type": "code",
   "execution_count": null,
   "metadata": {},
   "outputs": [],
   "source": [
    "for train_index, test_index in kf.split(tsx, tsy):\n",
    "    X_train, X_test = tsx[train_index], tx[test_index]\n",
    "    y_train, y_test = tsy[train_index], ty[test_index]\n",
    "    \n",
    "    lgb_train = lgb.Dataset(X_train, y_train)  \n",
    "    lgb_eval = lgb.Dataset(X_test, y_test)  \n",
    "    \n",
    "    # train\n",
    "    clf = lgb.LGBMClassifier(silient=False)\n",
    "    \n",
    "    clf.fit(X_train, y_train)\n",
    "\n",
    "    # test \n",
    "    #测试数据预测正确率\n",
    "    start = time.time()\n",
    "    y_pred = clf.predict(X_test)\n",
    "    stop = time.time()\n",
    "    t_scores.append(stop-start)\n",
    "    score = (y_pred == y_test).sum() / len(y_pred)\n",
    "    scores.append(score)\n",
    "    print(\"预测数据正确率：\", str(score))\n",
    "\n",
    "np_scores = np.array(scores)\n",
    "npt_scores = np.array(t_scores)\n",
    "print('测试时间平均值：',np.mean(npt_scores))\n",
    "print('平均准确率:',np.mean(np_scores),'准确率方差：', np.std(np_scores))"
   ]
  }
 ],
 "metadata": {
  "kernelspec": {
   "display_name": "Python 3.6.5 64-bit",
   "language": "python",
   "name": "python_defaultSpec_1597192583025"
  },
  "language_info": {
   "codemirror_mode": {
    "name": "ipython",
    "version": 3
   },
   "file_extension": ".py",
   "mimetype": "text/x-python",
   "name": "python",
   "nbconvert_exporter": "python",
   "pygments_lexer": "ipython3",
   "version": "3.6.5"
  }
 },
 "nbformat": 4,
 "nbformat_minor": 4
}